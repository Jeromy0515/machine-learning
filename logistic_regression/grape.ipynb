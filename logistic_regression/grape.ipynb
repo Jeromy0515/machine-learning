{
  "nbformat": 4,
  "nbformat_minor": 0,
  "metadata": {
    "colab": {
      "name": "grape.ipynb",
      "provenance": [],
      "authorship_tag": "ABX9TyONA4lPmZ+ifGWQMC7u+MOf",
      "include_colab_link": true
    },
    "kernelspec": {
      "name": "python3",
      "display_name": "Python 3"
    },
    "language_info": {
      "name": "python"
    }
  },
  "cells": [
    {
      "cell_type": "markdown",
      "metadata": {
        "id": "view-in-github",
        "colab_type": "text"
      },
      "source": [
        "<a href=\"https://colab.research.google.com/github/Jeromy0515/machine-learning/blob/main/logistic_regression/grape.ipynb\" target=\"_parent\"><img src=\"https://colab.research.google.com/assets/colab-badge.svg\" alt=\"Open In Colab\"/></a>"
      ]
    },
    {
      "cell_type": "code",
      "execution_count": null,
      "metadata": {
        "id": "G-hvPVHSg6oz"
      },
      "outputs": [],
      "source": [
        "import numpy as np\n",
        "import matplotlib.pyplot as plt"
      ]
    },
    {
      "cell_type": "code",
      "source": [
        "# 데이터 입력\n",
        "grape = np.array([[19, 300, 0], [20, 500, 0], [18, 400, 0],[25, 500, 1], [27, 700, 1], [28, 600, 1]])"
      ],
      "metadata": {
        "id": "nru5KqRVhBhm"
      },
      "execution_count": null,
      "outputs": []
    },
    {
      "cell_type": "code",
      "source": [
        "x = grape[:, :2] # 전체 행 중0-1열\n",
        "y = grape[:, 2]  # 전체 행 중 2열\n",
        "\n",
        "print(x)\n",
        "print(y)"
      ],
      "metadata": {
        "colab": {
          "base_uri": "https://localhost:8080/"
        },
        "id": "h04UZ0QchZCk",
        "outputId": "2c73e5dc-f910-4404-c133-c5c97e8718a2"
      },
      "execution_count": null,
      "outputs": [
        {
          "output_type": "stream",
          "name": "stdout",
          "text": [
            "[[ 19 300]\n",
            " [ 20 500]\n",
            " [ 18 400]\n",
            " [ 25 500]\n",
            " [ 27 700]\n",
            " [ 28 600]]\n",
            "[0 0 0 1 1 1]\n"
          ]
        }
      ]
    },
    {
      "cell_type": "code",
      "source": [
        "# 로지스틱 회귀 알고리즘으로 학습\n",
        "from sklearn.linear_model import LogisticRegression\n",
        "model = LogisticRegression() # LR모델생성\n",
        "model.fit(x, y) # 학습\n",
        "print(model.coef_) # 가중치 출력\n",
        "model.coef_\n",
        "print(model.intercept_) # 편향 출력\n",
        "# 가중치(weight)는 각 입력 신호가 결과 출력에 미치는 중요도를 조절하는 매개변수\n",
        "# 편향(bias)은 뉴런의 활성화를 조절하는 매개변수, 활성화 조건 설정"
      ],
      "metadata": {
        "colab": {
          "base_uri": "https://localhost:8080/"
        },
        "id": "FX30YTOUh7QA",
        "outputId": "745c3c13-a5b0-4747-9de9-26471481a615"
      },
      "execution_count": null,
      "outputs": [
        {
          "output_type": "stream",
          "name": "stdout",
          "text": [
            "[[0.71665314 0.04838074]]\n",
            "[-40.31573036]\n"
          ]
        }
      ]
    },
    {
      "cell_type": "code",
      "source": [
        "# 예측\n",
        "print(model.predict([[22, 600]]))\n",
        "print(model.predict([[20, 500]]))"
      ],
      "metadata": {
        "colab": {
          "base_uri": "https://localhost:8080/"
        },
        "id": "9pIZKOLcivUz",
        "outputId": "0a1a115d-d4c8-4f3a-d567-fcc7cfb5cde7"
      },
      "execution_count": null,
      "outputs": [
        {
          "output_type": "stream",
          "name": "stdout",
          "text": [
            "[1]\n",
            "[0]\n"
          ]
        }
      ]
    },
    {
      "cell_type": "code",
      "source": [
        "print(model.score(x, y)) # 6 개로 학습했고, 그거를 다시 예측했으니 소스가 좋을수밖에 없음\n",
        "# test set이 없음"
      ],
      "metadata": {
        "colab": {
          "base_uri": "https://localhost:8080/"
        },
        "id": "W9uT8fHTjHvq",
        "outputId": "52407fcd-0758-4494-94d3-2fb6681082a7"
      },
      "execution_count": null,
      "outputs": [
        {
          "output_type": "stream",
          "name": "stdout",
          "text": [
            "1.0\n"
          ]
        }
      ]
    },
    {
      "cell_type": "code",
      "source": [
        "size = float(input('포도 한알의 크기는(mm): '))\n",
        "weight = float(input('포도 한 송이의 무게는(g): '))\n",
        "result = model.predict([[size, weight]])\n",
        "if result == 1:\n",
        "  print('거봉')\n",
        "else:\n",
        "  print('일반 포도')"
      ],
      "metadata": {
        "colab": {
          "base_uri": "https://localhost:8080/"
        },
        "id": "YmWl919Oja89",
        "outputId": "a0186ebe-e019-4c2e-fe5a-eb520deb2e3b"
      },
      "execution_count": null,
      "outputs": [
        {
          "output_type": "stream",
          "name": "stdout",
          "text": [
            "포도 한알의 크기는(mm): 20\n",
            "포도 한 송이의 무게는(g): 450\n",
            "일반 포도\n"
          ]
        }
      ]
    }
  ]
}