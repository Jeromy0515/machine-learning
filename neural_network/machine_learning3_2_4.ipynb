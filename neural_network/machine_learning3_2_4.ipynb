{
  "nbformat": 4,
  "nbformat_minor": 0,
  "metadata": {
    "colab": {
      "name": "machine-learning3-2-4.ipynb",
      "provenance": [],
      "authorship_tag": "ABX9TyP5NyYriX4GAO2y4ncfEqQW",
      "include_colab_link": true
    },
    "kernelspec": {
      "name": "python3",
      "display_name": "Python 3"
    },
    "language_info": {
      "name": "python"
    }
  },
  "cells": [
    {
      "cell_type": "markdown",
      "metadata": {
        "id": "view-in-github",
        "colab_type": "text"
      },
      "source": [
        "<a href=\"https://colab.research.google.com/github/Jeromy0515/machine-learning/blob/main/machine_learning3_2_4.ipynb\" target=\"_parent\"><img src=\"https://colab.research.google.com/assets/colab-badge.svg\" alt=\"Open In Colab\"/></a>"
      ]
    },
    {
      "cell_type": "code",
      "execution_count": 3,
      "metadata": {
        "colab": {
          "base_uri": "https://localhost:8080/",
          "height": 206
        },
        "id": "XOUnyuLJJovK",
        "outputId": "3a6bb3aa-38fe-4942-eb77-b3348a77c364"
      },
      "outputs": [
        {
          "output_type": "execute_result",
          "data": {
            "text/plain": [
              "   DM1  KK1  Q3B_1  Q3B_2  Q3B_3  Q3B_4  Q3B_5  Q3B_6  Q3B_7  Q3B_8  Q3B_9  \\\n",
              "0    2    2      2      3      3      3      2      2      2      3      3   \n",
              "1    2    3      2      2      1      2      2      3      2      2      2   \n",
              "2    2    3      1      1      1      1      1      1      1      2      2   \n",
              "3    2    3      2      3      3      2      2      1      2      2      2   \n",
              "4    2    3      1      1      1      1      1      1      1      4      1   \n",
              "\n",
              "   Q3B_10  \n",
              "0       2  \n",
              "1       2  \n",
              "2       2  \n",
              "3       2  \n",
              "4       1  "
            ],
            "text/html": [
              "\n",
              "  <div id=\"df-2dd5480c-e28e-4978-9dfc-71d1058e72fe\">\n",
              "    <div class=\"colab-df-container\">\n",
              "      <div>\n",
              "<style scoped>\n",
              "    .dataframe tbody tr th:only-of-type {\n",
              "        vertical-align: middle;\n",
              "    }\n",
              "\n",
              "    .dataframe tbody tr th {\n",
              "        vertical-align: top;\n",
              "    }\n",
              "\n",
              "    .dataframe thead th {\n",
              "        text-align: right;\n",
              "    }\n",
              "</style>\n",
              "<table border=\"1\" class=\"dataframe\">\n",
              "  <thead>\n",
              "    <tr style=\"text-align: right;\">\n",
              "      <th></th>\n",
              "      <th>DM1</th>\n",
              "      <th>KK1</th>\n",
              "      <th>Q3B_1</th>\n",
              "      <th>Q3B_2</th>\n",
              "      <th>Q3B_3</th>\n",
              "      <th>Q3B_4</th>\n",
              "      <th>Q3B_5</th>\n",
              "      <th>Q3B_6</th>\n",
              "      <th>Q3B_7</th>\n",
              "      <th>Q3B_8</th>\n",
              "      <th>Q3B_9</th>\n",
              "      <th>Q3B_10</th>\n",
              "    </tr>\n",
              "  </thead>\n",
              "  <tbody>\n",
              "    <tr>\n",
              "      <th>0</th>\n",
              "      <td>2</td>\n",
              "      <td>2</td>\n",
              "      <td>2</td>\n",
              "      <td>3</td>\n",
              "      <td>3</td>\n",
              "      <td>3</td>\n",
              "      <td>2</td>\n",
              "      <td>2</td>\n",
              "      <td>2</td>\n",
              "      <td>3</td>\n",
              "      <td>3</td>\n",
              "      <td>2</td>\n",
              "    </tr>\n",
              "    <tr>\n",
              "      <th>1</th>\n",
              "      <td>2</td>\n",
              "      <td>3</td>\n",
              "      <td>2</td>\n",
              "      <td>2</td>\n",
              "      <td>1</td>\n",
              "      <td>2</td>\n",
              "      <td>2</td>\n",
              "      <td>3</td>\n",
              "      <td>2</td>\n",
              "      <td>2</td>\n",
              "      <td>2</td>\n",
              "      <td>2</td>\n",
              "    </tr>\n",
              "    <tr>\n",
              "      <th>2</th>\n",
              "      <td>2</td>\n",
              "      <td>3</td>\n",
              "      <td>1</td>\n",
              "      <td>1</td>\n",
              "      <td>1</td>\n",
              "      <td>1</td>\n",
              "      <td>1</td>\n",
              "      <td>1</td>\n",
              "      <td>1</td>\n",
              "      <td>2</td>\n",
              "      <td>2</td>\n",
              "      <td>2</td>\n",
              "    </tr>\n",
              "    <tr>\n",
              "      <th>3</th>\n",
              "      <td>2</td>\n",
              "      <td>3</td>\n",
              "      <td>2</td>\n",
              "      <td>3</td>\n",
              "      <td>3</td>\n",
              "      <td>2</td>\n",
              "      <td>2</td>\n",
              "      <td>1</td>\n",
              "      <td>2</td>\n",
              "      <td>2</td>\n",
              "      <td>2</td>\n",
              "      <td>2</td>\n",
              "    </tr>\n",
              "    <tr>\n",
              "      <th>4</th>\n",
              "      <td>2</td>\n",
              "      <td>3</td>\n",
              "      <td>1</td>\n",
              "      <td>1</td>\n",
              "      <td>1</td>\n",
              "      <td>1</td>\n",
              "      <td>1</td>\n",
              "      <td>1</td>\n",
              "      <td>1</td>\n",
              "      <td>4</td>\n",
              "      <td>1</td>\n",
              "      <td>1</td>\n",
              "    </tr>\n",
              "  </tbody>\n",
              "</table>\n",
              "</div>\n",
              "      <button class=\"colab-df-convert\" onclick=\"convertToInteractive('df-2dd5480c-e28e-4978-9dfc-71d1058e72fe')\"\n",
              "              title=\"Convert this dataframe to an interactive table.\"\n",
              "              style=\"display:none;\">\n",
              "        \n",
              "  <svg xmlns=\"http://www.w3.org/2000/svg\" height=\"24px\"viewBox=\"0 0 24 24\"\n",
              "       width=\"24px\">\n",
              "    <path d=\"M0 0h24v24H0V0z\" fill=\"none\"/>\n",
              "    <path d=\"M18.56 5.44l.94 2.06.94-2.06 2.06-.94-2.06-.94-.94-2.06-.94 2.06-2.06.94zm-11 1L8.5 8.5l.94-2.06 2.06-.94-2.06-.94L8.5 2.5l-.94 2.06-2.06.94zm10 10l.94 2.06.94-2.06 2.06-.94-2.06-.94-.94-2.06-.94 2.06-2.06.94z\"/><path d=\"M17.41 7.96l-1.37-1.37c-.4-.4-.92-.59-1.43-.59-.52 0-1.04.2-1.43.59L10.3 9.45l-7.72 7.72c-.78.78-.78 2.05 0 2.83L4 21.41c.39.39.9.59 1.41.59.51 0 1.02-.2 1.41-.59l7.78-7.78 2.81-2.81c.8-.78.8-2.07 0-2.86zM5.41 20L4 18.59l7.72-7.72 1.47 1.35L5.41 20z\"/>\n",
              "  </svg>\n",
              "      </button>\n",
              "      \n",
              "  <style>\n",
              "    .colab-df-container {\n",
              "      display:flex;\n",
              "      flex-wrap:wrap;\n",
              "      gap: 12px;\n",
              "    }\n",
              "\n",
              "    .colab-df-convert {\n",
              "      background-color: #E8F0FE;\n",
              "      border: none;\n",
              "      border-radius: 50%;\n",
              "      cursor: pointer;\n",
              "      display: none;\n",
              "      fill: #1967D2;\n",
              "      height: 32px;\n",
              "      padding: 0 0 0 0;\n",
              "      width: 32px;\n",
              "    }\n",
              "\n",
              "    .colab-df-convert:hover {\n",
              "      background-color: #E2EBFA;\n",
              "      box-shadow: 0px 1px 2px rgba(60, 64, 67, 0.3), 0px 1px 3px 1px rgba(60, 64, 67, 0.15);\n",
              "      fill: #174EA6;\n",
              "    }\n",
              "\n",
              "    [theme=dark] .colab-df-convert {\n",
              "      background-color: #3B4455;\n",
              "      fill: #D2E3FC;\n",
              "    }\n",
              "\n",
              "    [theme=dark] .colab-df-convert:hover {\n",
              "      background-color: #434B5C;\n",
              "      box-shadow: 0px 1px 3px 1px rgba(0, 0, 0, 0.15);\n",
              "      filter: drop-shadow(0px 1px 2px rgba(0, 0, 0, 0.3));\n",
              "      fill: #FFFFFF;\n",
              "    }\n",
              "  </style>\n",
              "\n",
              "      <script>\n",
              "        const buttonEl =\n",
              "          document.querySelector('#df-2dd5480c-e28e-4978-9dfc-71d1058e72fe button.colab-df-convert');\n",
              "        buttonEl.style.display =\n",
              "          google.colab.kernel.accessAllowed ? 'block' : 'none';\n",
              "\n",
              "        async function convertToInteractive(key) {\n",
              "          const element = document.querySelector('#df-2dd5480c-e28e-4978-9dfc-71d1058e72fe');\n",
              "          const dataTable =\n",
              "            await google.colab.kernel.invokeFunction('convertToInteractive',\n",
              "                                                     [key], {});\n",
              "          if (!dataTable) return;\n",
              "\n",
              "          const docLinkHtml = 'Like what you see? Visit the ' +\n",
              "            '<a target=\"_blank\" href=https://colab.research.google.com/notebooks/data_table.ipynb>data table notebook</a>'\n",
              "            + ' to learn more about interactive tables.';\n",
              "          element.innerHTML = '';\n",
              "          dataTable['output_type'] = 'display_data';\n",
              "          await google.colab.output.renderOutput(dataTable, element);\n",
              "          const docLink = document.createElement('div');\n",
              "          docLink.innerHTML = docLinkHtml;\n",
              "          element.appendChild(docLink);\n",
              "        }\n",
              "      </script>\n",
              "    </div>\n",
              "  </div>\n",
              "  "
            ]
          },
          "metadata": {},
          "execution_count": 3
        }
      ],
      "source": [
        "# 데이터 프레임 생성\n",
        "import pandas as pd\n",
        "import numpy as np\n",
        "import matplotlib.pyplot as plt\n",
        "\n",
        "df = pd.read_excel(\"sample_data/phone.xlsx\")\n",
        "df.head()"
      ]
    },
    {
      "cell_type": "code",
      "source": [
        "# 상관관계 분석\n",
        "import seaborn as sns\n",
        "df.corr() # corr() 상관 계수 반환\n",
        "plt.figure(figsize=(10,8))  # figure() figure(그림) 생성, 가로 10인치, 세로 8인치\n",
        "sns.heatmap(df.corr(), annot=True) # sns.headmap(): axes(좌표축) 레벨의 함수로써 현재 활성화된 axes(좌표축)에 대해 히트맵 생성\n",
        "# annotaion: 히트맵 내부 수치"
      ],
      "metadata": {
        "colab": {
          "base_uri": "https://localhost:8080/",
          "height": 506
        },
        "id": "ixYsCghiYT8M",
        "outputId": "51b03629-80e1-47b6-dd4e-f78b27a85bb1"
      },
      "execution_count": 6,
      "outputs": [
        {
          "output_type": "execute_result",
          "data": {
            "text/plain": [
              "<matplotlib.axes._subplots.AxesSubplot at 0x7fb6911ad990>"
            ]
          },
          "metadata": {},
          "execution_count": 6
        },
        {
          "output_type": "display_data",
          "data": {
            "text/plain": [
              "<Figure size 720x576 with 2 Axes>"
            ],
            "image/png": "[encoded data removed]"
          },
          "metadata": {
            "needs_background": "light"
          }
        }
      ]
    },
    {
      "cell_type": "code",
      "source": [
        "# X, y 정의\n",
        "X = df[['Q3B_4','Q3B_5','Q3B_6','Q3B_10']].to_numpy() # 상관관계가 높은 4개 속성 선택\n",
        "y = df['KK1'].to_numpy() # KK1 속성만\n",
        "print(X.shape, y.shape) # X,y 형태 출력"
      ],
      "metadata": {
        "colab": {
          "base_uri": "https://localhost:8080/"
        },
        "id": "--pNWjTMZQ8Q",
        "outputId": "773e8fc6-bc34-4b04-906b-66c6c1db92d6"
      },
      "execution_count": 7,
      "outputs": [
        {
          "output_type": "stream",
          "name": "stdout",
          "text": [
            "(4886, 4) (4886,)\n"
          ]
        }
      ]
    },
    {
      "cell_type": "code",
      "source": [
        "# data split\n",
        "from sklearn.model_selection import train_test_split\n",
        "\n",
        "# 비율은 default(75:25), 결과값 비종 동일하게(stratify 매개변수)\n",
        "X_train, X_test, y_train, y_test = train_test_split(X, y, stratify=y) # 훈련 세트와 테스트 세트 분리\n",
        "print(X_train.shape, y_train.shape)"
      ],
      "metadata": {
        "colab": {
          "base_uri": "https://localhost:8080/"
        },
        "id": "JpHTdR4_ZsfS",
        "outputId": "14ea1977-d705-484a-c6c8-b312412a6f2b"
      },
      "execution_count": 8,
      "outputs": [
        {
          "output_type": "stream",
          "name": "stdout",
          "text": [
            "(3664, 4) (3664,)\n"
          ]
        }
      ]
    },
    {
      "cell_type": "code",
      "source": [
        "# training\n",
        "from sklearn.neural_network import MLPClassifier\n",
        "# hidden_layer_sizes() 은닉층의 크기를 정의하는 함수로 은닉층의 수와 뉴런의 갯수를 튜플로 전달함\n",
        "model = MLPClassifier(hidden_layer_sizes=(100,50,25), verbose=True) # verbose: 모델 학습 과정 출력 여부\n",
        "model.fit(X_train, y_train)"
      ],
      "metadata": {
        "colab": {
          "base_uri": "https://localhost:8080/"
        },
        "id": "mRBvrR01aKsB",
        "outputId": "9dd4a114-8ccd-4065-e4ff-7d4ccbcc6961"
      },
      "execution_count": 9,
      "outputs": [
        {
          "output_type": "stream",
          "name": "stdout",
          "text": [
            "Iteration 1, loss = 0.93088836\n",
            "Iteration 2, loss = 0.77269882\n",
            "Iteration 3, loss = 0.67749264\n",
            "Iteration 4, loss = 0.57941794\n",
            "Iteration 5, loss = 0.48225134\n",
            "Iteration 6, loss = 0.40008884\n",
            "Iteration 7, loss = 0.34741234\n",
            "Iteration 8, loss = 0.32009992\n",
            "Iteration 9, loss = 0.30669464\n",
            "Iteration 10, loss = 0.29919480\n",
            "Iteration 11, loss = 0.29486520\n",
            "Iteration 12, loss = 0.28147626\n",
            "Iteration 13, loss = 0.27784963\n",
            "Iteration 14, loss = 0.27240308\n",
            "Iteration 15, loss = 0.28531862\n",
            "Iteration 16, loss = 0.26969936\n",
            "Iteration 17, loss = 0.26913946\n",
            "Iteration 18, loss = 0.26070025\n",
            "Iteration 19, loss = 0.25879019\n",
            "Iteration 20, loss = 0.25667874\n",
            "Iteration 21, loss = 0.25691196\n",
            "Iteration 22, loss = 0.26100566\n",
            "Iteration 23, loss = 0.25472914\n",
            "Iteration 24, loss = 0.25033190\n",
            "Iteration 25, loss = 0.25140336\n",
            "Iteration 26, loss = 0.24951699\n",
            "Iteration 27, loss = 0.24639904\n",
            "Iteration 28, loss = 0.24604568\n",
            "Iteration 29, loss = 0.25613111\n",
            "Iteration 30, loss = 0.25025829\n",
            "Iteration 31, loss = 0.25262800\n",
            "Iteration 32, loss = 0.26500651\n",
            "Iteration 33, loss = 0.25810253\n",
            "Iteration 34, loss = 0.24739844\n",
            "Iteration 35, loss = 0.24922171\n",
            "Iteration 36, loss = 0.24408785\n",
            "Iteration 37, loss = 0.24475297\n",
            "Iteration 38, loss = 0.24888979\n",
            "Iteration 39, loss = 0.24718937\n",
            "Iteration 40, loss = 0.24385122\n",
            "Iteration 41, loss = 0.24814962\n",
            "Iteration 42, loss = 0.24539486\n",
            "Iteration 43, loss = 0.24352858\n",
            "Iteration 44, loss = 0.24180835\n",
            "Iteration 45, loss = 0.24411542\n",
            "Iteration 46, loss = 0.24651417\n",
            "Iteration 47, loss = 0.24396101\n",
            "Iteration 48, loss = 0.24276539\n",
            "Iteration 49, loss = 0.24194635\n",
            "Iteration 50, loss = 0.24015361\n",
            "Iteration 51, loss = 0.24052491\n",
            "Iteration 52, loss = 0.24774922\n",
            "Iteration 53, loss = 0.24391145\n",
            "Iteration 54, loss = 0.24183180\n",
            "Iteration 55, loss = 0.24809695\n",
            "Iteration 56, loss = 0.24202468\n",
            "Iteration 57, loss = 0.25825399\n",
            "Iteration 58, loss = 0.25263052\n",
            "Iteration 59, loss = 0.24219736\n",
            "Iteration 60, loss = 0.24097642\n",
            "Iteration 61, loss = 0.24061876\n",
            "Training loss did not improve more than tol=0.000100 for 10 consecutive epochs. Stopping.\n"
          ]
        },
        {
          "output_type": "execute_result",
          "data": {
            "text/plain": [
              "MLPClassifier(hidden_layer_sizes=(100, 50, 25), verbose=True)"
            ]
          },
          "metadata": {},
          "execution_count": 9
        }
      ]
    },
    {
      "cell_type": "code",
      "source": [
        "# 모델 정확도\n",
        "model.score(X_test, y_test)"
      ],
      "metadata": {
        "colab": {
          "base_uri": "https://localhost:8080/"
        },
        "id": "BzG4XF7JaXQg",
        "outputId": "dcb8eb99-54d8-43c0-8b50-ca1ca285dd3e"
      },
      "execution_count": 10,
      "outputs": [
        {
          "output_type": "execute_result",
          "data": {
            "text/plain": [
              "0.897708674304419"
            ]
          },
          "metadata": {},
          "execution_count": 10
        }
      ]
    },
    {
      "cell_type": "code",
      "source": [
        "# 스마트폰 과의존 유형 안내 프로그램 실습\n",
        "question = ['스마트폰이 옆에 있으면 다른 일에 집중하기 어렵다.',\n",
        "            '스마트폰 생각이 머리에서 떠나지 않는다.',\n",
        "            '스마트폰을 이용하고 싶은 충동을 강하게 느낀다.',\n",
        "            '스마트폰 때문에 학업 수행에 어려움이 있다.']\n",
        "\n",
        "result = np.zeros(4)\n",
        "print('다음 질문에 답해주세요. 1(전혀아니다),2(아니다), 3(그렇다), 4(매우 그렇다)')"
      ],
      "metadata": {
        "colab": {
          "base_uri": "https://localhost:8080/"
        },
        "id": "UEsWCWY1ae1F",
        "outputId": "ea8d884a-63f1-4b3f-fdf5-a2dbef239ebb"
      },
      "execution_count": 11,
      "outputs": [
        {
          "output_type": "stream",
          "name": "stdout",
          "text": [
            "다음 질문에 답해주세요. 1(전혀아니다),2(아니다), 3(그렇다), 4(매우 그렇다)\n"
          ]
        }
      ]
    },
    {
      "cell_type": "code",
      "source": [
        "for i, q in enumerate(question): # enumerate(iterable): 인덱스와 원소로 이루어진 튜플 반환 (index, elements)\n",
        "  result[i] = int(input((q)))\n",
        "pred_result = model.predict([result]) # predict() 모델 예측 값 반환\n",
        "\n",
        "if pred_result == 1:\n",
        "  print(\"예상: 고위험군\")\n",
        "elif pred_result == 2:\n",
        "  print(\"예상: 잠재적 위험군\")\n",
        "else:\n",
        "  print(\"예상: 일반 사용자군\")"
      ],
      "metadata": {
        "colab": {
          "base_uri": "https://localhost:8080/"
        },
        "id": "r8dB5HR_a3ec",
        "outputId": "af5280e8-55d9-4a4f-d3bb-e1fffac8e822"
      },
      "execution_count": 12,
      "outputs": [
        {
          "output_type": "stream",
          "name": "stdout",
          "text": [
            "스마트폰이 옆에 있으면 다른 일에 집중하기 어렵다.1\n",
            "스마트폰 생각이 머리에서 떠나지 않는다.2\n",
            "스마트폰을 이용하고 싶은 충동을 강하게 느낀다.3\n",
            "스마트폰 때문에 학업 수행에 어려움이 있다.4\n",
            "예상: 잠재적 위험군\n"
          ]
        }
      ]
    },
    {
      "cell_type": "code",
      "source": [
        ""
      ],
      "metadata": {
        "id": "BJBSa7TIbWz9"
      },
      "execution_count": null,
      "outputs": []
    }
  ]
}